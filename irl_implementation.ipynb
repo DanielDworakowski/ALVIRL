{
 "cells": [
  {
   "cell_type": "markdown",
   "metadata": {},
   "source": [
    "# Q Learning Algorithm with Epislon Greedy\n",
    "\n",
    "Reference: \n",
    "\n",
    "https://github.com/philtabor/OpenAI-Cartpole\n",
    "\n",
    "https://www.youtube.com/watch?v=ViwBAK8Hd7Q&t=712s"
   ]
  },
  {
   "cell_type": "code",
   "execution_count": 1,
   "metadata": {},
   "outputs": [],
   "source": [
    "import gym\n",
    "import numpy as np\n",
    "from numpy.linalg import norm\n",
    "import matplotlib.pyplot as plt\n",
    "import seaborn as sns\n",
    "import pandas as pd\n",
    "from IPython.display import clear_output\n",
    "import time\n",
    "import sys"
   ]
  },
  {
   "cell_type": "code",
   "execution_count": 2,
   "metadata": {},
   "outputs": [],
   "source": [
    "env = gym.make('CartPole-v0')\n",
    "\n",
    "MAXSTATES = 10**4\n",
    "GAMMA = 0.9\n",
    "ALPHA = 0.01"
   ]
  },
  {
   "cell_type": "code",
   "execution_count": 3,
   "metadata": {},
   "outputs": [],
   "source": [
    "def max_dict(d):\n",
    "    max_v = float('-inf')\n",
    "    for key, val in d.items():\n",
    "        if val > max_v:\n",
    "            max_v = val\n",
    "            max_key = key\n",
    "    return max_key, max_v"
   ]
  },
  {
   "cell_type": "code",
   "execution_count": 4,
   "metadata": {},
   "outputs": [],
   "source": [
    "def create_bins():\n",
    "    # obs[0] -> cart position --- -4.8 - 4.8\n",
    "    # obs[1] -> cart velocity --- -inf - inf\n",
    "    # obs[2] -> pole angle    --- -41.8 - 41.8\n",
    "    # obs[3] -> pole velocity --- -inf - inf\n",
    "\n",
    "    bins = np.zeros((4,10))\n",
    "    bins[0] = np.linspace(-4.8, 4.8, 10)\n",
    "    bins[1] = np.linspace(-5, 5, 10)\n",
    "    bins[2] = np.linspace(-.418, .418, 10)\n",
    "    bins[3] = np.linspace(-5, 5, 10)\n",
    "    return bins"
   ]
  },
  {
   "cell_type": "code",
   "execution_count": 5,
   "metadata": {},
   "outputs": [],
   "source": [
    "def assign_bins(observation, bins):\n",
    "    state = np.zeros(4)\n",
    "    for i in range(4):\n",
    "        state[i] = np.digitize(observation[i], bins[i])\n",
    "    return state"
   ]
  },
  {
   "cell_type": "code",
   "execution_count": 6,
   "metadata": {},
   "outputs": [],
   "source": [
    "def get_state_as_string(state):\n",
    "    string_state = ''.join(str(int(e)) for e in state)\n",
    "    return string_state"
   ]
  },
  {
   "cell_type": "code",
   "execution_count": 7,
   "metadata": {},
   "outputs": [],
   "source": [
    "def get_state_as_string(state):\n",
    "    string_state = ''.join(str(int(e)) for e in state)\n",
    "    return string_state"
   ]
  },
  {
   "cell_type": "code",
   "execution_count": 8,
   "metadata": {},
   "outputs": [],
   "source": [
    "def get_all_states_as_string():\n",
    "    states = []\n",
    "    for i in range(MAXSTATES):\n",
    "        states.append(str(i).zfill(4))\n",
    "    return states"
   ]
  },
  {
   "cell_type": "code",
   "execution_count": 9,
   "metadata": {},
   "outputs": [],
   "source": [
    "def initialize_Q():\n",
    "    Q = {}\n",
    "\n",
    "    all_states = get_all_states_as_string()\n",
    "    for state in all_states:\n",
    "        Q[state] = {}\n",
    "        for action in range(env.action_space.n):\n",
    "            Q[state][action] = 0\n",
    "    return Q"
   ]
  },
  {
   "cell_type": "code",
   "execution_count": 10,
   "metadata": {},
   "outputs": [],
   "source": [
    "def play_one_game(bins, Q, eps=0.5):\n",
    "    observation = env.reset()\n",
    "    done = False\n",
    "    cnt = 0 # number of moves in an episode\n",
    "    state = get_state_as_string(assign_bins(observation, bins))\n",
    "    total_reward = 0\n",
    "\n",
    "    while not done:\n",
    "        cnt += 1\n",
    "        # np.random.randn() seems to yield a random action 50% of the time ?\n",
    "        if np.random.uniform() < eps:\n",
    "            act = env.action_space.sample() # epsilon greedy\n",
    "        else:\n",
    "            act = max_dict(Q[state])[0]\n",
    "\n",
    "        observation, reward, done, _ = env.step(act)\n",
    "\n",
    "        total_reward += reward\n",
    "\n",
    "        if done and cnt < 200:\n",
    "            reward = -300\n",
    "\n",
    "        state_new = get_state_as_string(assign_bins(observation, bins))\n",
    "\n",
    "        a1, max_q_s1a1 = max_dict(Q[state_new])\n",
    "        Q[state][act] += ALPHA*(reward + GAMMA*max_q_s1a1 - Q[state][act])\n",
    "        state, act = state_new, a1\n",
    "\n",
    "    return total_reward, cnt"
   ]
  },
  {
   "cell_type": "code",
   "execution_count": 11,
   "metadata": {},
   "outputs": [],
   "source": [
    "def play_many_games(bins, N=10000):\n",
    "    Q = initialize_Q()\n",
    "\n",
    "    length = []\n",
    "    reward = []\n",
    "    for n in range(N):\n",
    "        #eps=0.5/(1+n*10e-3)\n",
    "        eps = 1.0 / np.sqrt(n+1)\n",
    "\n",
    "        episode_reward, episode_length= play_one_game(bins, Q, eps)\n",
    "\n",
    "        if n % 100 == 0:\n",
    "            clear_output(wait=True)\n",
    "            print(\"Episode: %d, Epislon: %.4f, Reward %d\"%(n,eps,episode_reward))\n",
    "        length.append(episode_length)\n",
    "        reward.append(episode_reward)\n",
    "        \n",
    "        if (N-n<=10):\n",
    "            env.render()\n",
    "            time.sleep(0.01)\n",
    "    env.close()\n",
    "    return length, reward, Q"
   ]
  },
  {
   "cell_type": "code",
   "execution_count": 12,
   "metadata": {},
   "outputs": [],
   "source": [
    "def plot_running_avg(totalrewards):\n",
    "    N = len(totalrewards)\n",
    "    running_avg = np.empty(N)\n",
    "    for t in range(N):\n",
    "        running_avg[t] = np.mean(totalrewards[max(0, t-100):(t+1)])\n",
    "    plt.plot(running_avg)\n",
    "    plt.title(\"Running Average\")\n",
    "    plt.show()"
   ]
  },
  {
   "cell_type": "code",
   "execution_count": 13,
   "metadata": {},
   "outputs": [],
   "source": [
    "def play_policy(bins,Q,N=1000,render=False):\n",
    "    totalReward=[]\n",
    "    steps=[]\n",
    "    for n in range(N):\n",
    "        observation=env.reset()\n",
    "        done=False\n",
    "        episodeReward=0\n",
    "        while not done:\n",
    "            if render:\n",
    "                env.render()\n",
    "                time.sleep(0.01)\n",
    "            state=get_state_as_string(assign_bins(observation, bins))\n",
    "            act=max_dict(Q[state])[0]\n",
    "#             print(act)\n",
    "            observation,reward,done,_=env.step(act)\n",
    "            episodeReward+=reward\n",
    "        totalReward.append(episodeReward)\n",
    "    env.close()\n",
    "    return totalReward"
   ]
  },
  {
   "cell_type": "markdown",
   "metadata": {},
   "source": [
    "## Finding Expert Policy"
   ]
  },
  {
   "cell_type": "code",
   "execution_count": 14,
   "metadata": {
    "scrolled": true
   },
   "outputs": [
    {
     "name": "stdout",
     "output_type": "stream",
     "text": [
      "Episode: 9900, Epislon: 0.0100, Reward 200\n"
     ]
    },
    {
     "data": {
      "image/png": "[encoded data removed]",
      "text/plain": [
       "<Figure size 432x288 with 1 Axes>"
      ]
     },
     "metadata": {
      "needs_background": "light"
     },
     "output_type": "display_data"
    }
   ],
   "source": [
    "bins = create_bins()\n",
    "episode_lengths, episode_rewards, expert_Q= play_many_games(bins)\n",
    "\n",
    "plot_running_avg(episode_rewards)"
   ]
  },
  {
   "cell_type": "markdown",
   "metadata": {},
   "source": [
    "# Demonstrate Expert Policy"
   ]
  },
  {
   "cell_type": "code",
   "execution_count": 15,
   "metadata": {
    "scrolled": true
   },
   "outputs": [],
   "source": [
    "expertReward=play_policy(bins,expert_Q,N=10000,render=False)"
   ]
  },
  {
   "cell_type": "code",
   "execution_count": 16,
   "metadata": {},
   "outputs": [
    {
     "data": {
      "text/plain": [
       "Text(0, 0.5, 'Frequency')"
      ]
     },
     "execution_count": 16,
     "metadata": {},
     "output_type": "execute_result"
    },
    {
     "data": {
      "image/png": "[encoded data removed]",
      "text/plain": [
       "<Figure size 432x288 with 1 Axes>"
      ]
     },
     "metadata": {
      "needs_background": "light"
     },
     "output_type": "display_data"
    }
   ],
   "source": [
    "plt.hist(expertReward)\n",
    "plt.title(\"Reward Distribution\")\n",
    "plt.xlabel(\"Reward\")\n",
    "plt.ylabel(\"Frequency\")"
   ]
  },
  {
   "cell_type": "code",
   "execution_count": 17,
   "metadata": {},
   "outputs": [],
   "source": [
    "expertReward=play_policy(bins,expert_Q,N=5,render=True)"
   ]
  },
  {
   "cell_type": "code",
   "execution_count": 18,
   "metadata": {},
   "outputs": [],
   "source": [
    "env.close()"
   ]
  },
  {
   "cell_type": "markdown",
   "metadata": {},
   "source": [
    "# Build IRL Algorithm"
   ]
  },
  {
   "cell_type": "code",
   "execution_count": 19,
   "metadata": {},
   "outputs": [],
   "source": [
    "def play_policy(bins,Q,N=1000,render=False):\n",
    "    totalReward=[]\n",
    "    steps=[]\n",
    "    for n in range(N):\n",
    "        observation=env.reset()\n",
    "        done=False\n",
    "        episodeReward=0\n",
    "        while not done:\n",
    "            if render:\n",
    "                env.render()\n",
    "                time.sleep(0.01)\n",
    "            state=get_state_as_string(assign_bins(observation, bins))\n",
    "            act=max_dict(Q[state])[0]\n",
    "#             print(act)\n",
    "            observation,reward,done,_=env.step(act)\n",
    "            episodeReward+=reward\n",
    "        totalReward.append(episodeReward)\n",
    "    env.close()\n",
    "    return totalReward"
   ]
  },
  {
   "cell_type": "code",
   "execution_count": 20,
   "metadata": {},
   "outputs": [],
   "source": [
    "def getFeatureExpectation(Q,N=1000):\n",
    "    observationSum=np.zeros(4)\n",
    "    for i in range(N):\n",
    "        observation=env.reset()\n",
    "        done=False\n",
    "        cnt=0\n",
    "        while not done:\n",
    "            state=get_state_as_string(assign_bins(observation, bins))\n",
    "            act=max_dict(Q[state])[0]\n",
    "            \n",
    "            observation,reward,done,_=env.step(act)\n",
    "            observationSum+=(GAMMA**cnt)*observation\n",
    "            cnt+=1\n",
    "    featureExpectation=observationSum/N\n",
    "    \n",
    "    print(\"FeatureExpectation: \",featureExpectation)\n",
    "    return featureExpectation"
   ]
  },
  {
   "cell_type": "code",
   "execution_count": 21,
   "metadata": {},
   "outputs": [],
   "source": [
    "def irl_play_one_game(bins,weight,Q,eps=0.5):\n",
    "    observation = env.reset()\n",
    "    done = False\n",
    "    cnt = 0 # number of moves in an episode\n",
    "    state = get_state_as_string(assign_bins(observation, bins))\n",
    "    total_reward = 0\n",
    "\n",
    "    while not done:\n",
    "        cnt += 1\n",
    "        # np.random.randn() seems to yield a random action 50% of the time ?\n",
    "        if np.random.uniform() < eps:\n",
    "            act = env.action_space.sample() # epsilon greedy\n",
    "        else:\n",
    "            act = max_dict(Q[state])[0]\n",
    "\n",
    "        observation, reward, done, _ = env.step(act)\n",
    "        reward = np.dot(weight,observation)\n",
    "#         print(reward)\n",
    "        total_reward += reward\n",
    "\n",
    "        if done and cnt < 200:\n",
    "            reward = -300\n",
    "\n",
    "        state_new = get_state_as_string(assign_bins(observation, bins))\n",
    "\n",
    "        a1, max_q_s1a1 = max_dict(Q[state_new])\n",
    "        Q[state][act] += ALPHA*(reward + GAMMA*max_q_s1a1 - Q[state][act])\n",
    "        state, act = state_new, a1\n",
    "\n",
    "    return total_reward, cnt"
   ]
  },
  {
   "cell_type": "code",
   "execution_count": 25,
   "metadata": {},
   "outputs": [],
   "source": [
    "def irl_play_many_games(bins,weight,N=10000):\n",
    "    Q = initialize_Q()\n",
    "\n",
    "    length = []\n",
    "    reward = []\n",
    "    for n in range(N):\n",
    "        #eps=0.5/(1+n*10e-3)\n",
    "        eps = 1.0 / np.sqrt(n+1)\n",
    "\n",
    "        episode_reward, episode_length= irl_play_one_game(bins, weight,Q,eps)\n",
    "\n",
    "        length.append(episode_length)\n",
    "        reward.append(episode_reward)\n",
    "        \n",
    "    print(\"AvgReward %d\"%(np.average(reward)))\n",
    "    return length, reward, Q"
   ]
  },
  {
   "cell_type": "code",
   "execution_count": 26,
   "metadata": {
    "scrolled": true
   },
   "outputs": [
    {
     "name": "stdout",
     "output_type": "stream",
     "text": [
      "FeatureExpectation:  [ 0.11803422  0.64725158 -0.31826874 -1.8426573 ]\n"
     ]
    }
   ],
   "source": [
    "expertExpectation=getFeatureExpectation(expert_Q)"
   ]
  },
  {
   "cell_type": "code",
   "execution_count": 28,
   "metadata": {
    "scrolled": false
   },
   "outputs": [
    {
     "name": "stdout",
     "output_type": "stream",
     "text": [
      "Iteration:  0\n",
      "FeatureExpectation:  [-0.27492481 -5.42721854  0.39774565  8.30802073]\n",
      "\n",
      "Iteration:  1\n",
      "margin:  11.857594406335151\n",
      "weight:  [  0.39295903   6.07447012  -0.71601439 -10.15067803]\n",
      "AvgReward -231\n",
      "FeatureExpectation:  [ 0.21834321  1.72651665 -0.66844837 -4.277033  ]\n",
      "\n",
      "Iteration:  2\n",
      "margin:  0.30672051043061443\n",
      "weight:  [-0.00962372  0.23591934  0.1541643   0.12066602]\n",
      "AvgReward 16\n",
      "FeatureExpectation:  [-0.09078361 -0.55217963  0.28339664  1.60913606]\n",
      "\n",
      "Iteration:  3\n",
      "margin:  0.29464277408793144\n",
      "weight:  [-0.00470242  0.25762641  0.13713613  0.04018166]\n",
      "AvgReward 12\n",
      "FeatureExpectation:  [-0.1053277  -0.52374306  0.28660387  1.56957963]\n",
      "\n",
      "Iteration:  4\n",
      "margin:  0.29463781917359155\n",
      "weight:  [-0.00459579  0.25805347  0.13678919  0.03856744]\n",
      "AvgReward 14\n",
      "FeatureExpectation:  [-0.10492234 -0.57024247  0.28204619  1.61638889]\n",
      "\n",
      "Iteration:  5\n",
      "margin:  0.29462337064346006\n",
      "weight:  [-0.00477485  0.25729847  0.13736923  0.04131978]\n",
      "AvgReward 19\n",
      "FeatureExpectation:  [-0.09238781 -0.48437866  0.27150803  1.47768701]\n",
      "\n",
      "Iteration:  6\n",
      "margin:  0.29459374581865005\n",
      "weight:  [-0.00452197  0.25832592  0.13651474  0.03736938]\n",
      "AvgReward 15\n",
      "FeatureExpectation:  [-0.11422615 -0.58151985  0.27943315  1.61124178]\n",
      "\n",
      "Iteration:  7\n",
      "margin:  0.29454946657173786\n",
      "weight:  [-0.0048484   0.25698806  0.13752694  0.04218247]\n",
      "AvgReward 20\n",
      "FeatureExpectation:  [-0.11931199 -0.57129776  0.26821219  1.56290282]\n",
      "\n",
      "Iteration:  8\n",
      "margin:  0.29454935681238226\n",
      "weight:  [-0.00486523  0.25692125  0.13757724  0.04242202]\n",
      "AvgReward 18\n",
      "FeatureExpectation:  [-0.08683487 -0.5354328   0.28392787  1.5937543 ]\n",
      "\n",
      "Iteration:  9\n",
      "margin:  0.2945296966013362\n",
      "weight:  [-0.00467133  0.25777711  0.13689333  0.03920587]\n",
      "AvgReward 15\n",
      "FeatureExpectation:  [-0.09475545 -0.51272361  0.29041213  1.55723558]\n",
      "\n",
      "Iteration:  10\n",
      "margin:  0.2945260322529858\n",
      "weight:  [-0.00458354  0.25814132  0.13659234  0.03781751]\n",
      "AvgReward 15\n",
      "FeatureExpectation:  [-0.09618049 -0.53371802  0.28654808  1.57872052]\n",
      "\n",
      "Iteration:  11\n",
      "margin:  0.2945227041574465\n",
      "weight:  [-0.00466718  0.25778855  0.13687576  0.03913987]\n",
      "AvgReward 16\n",
      "FeatureExpectation:  [-0.10829802 -0.55894806  0.2863093   1.59335693]\n",
      "\n",
      "Iteration:  12\n",
      "margin:  0.2945183414893875\n",
      "weight:  [-0.00476767  0.25737597  0.13719831  0.04065163]\n",
      "AvgReward 20\n",
      "FeatureExpectation:  [-0.08460621 -0.50803901  0.28896495  1.54203906]\n",
      "\n",
      "Iteration:  13\n",
      "margin:  0.2945019323479993\n",
      "weight:  [-0.00458976  0.25814617  0.13655976  0.03771349]\n",
      "AvgReward 20\n",
      "FeatureExpectation:  [-0.10837292 -0.51396545  0.28645537  1.56167744]\n",
      "\n",
      "Iteration:  14\n",
      "margin:  0.29450179844558094\n",
      "weight:  [-0.00460757  0.25807654  0.13661692  0.03797888]\n",
      "AvgReward 16\n",
      "FeatureExpectation:  [-0.09141894 -0.50862132  0.27103201  1.5124842 ]\n",
      "\n",
      "Iteration:  15\n",
      "margin:  0.29450085658636344\n",
      "weight:  [-0.00465198  0.2578903   0.1367675   0.03868275]\n",
      "AvgReward 13\n",
      "FeatureExpectation:  [-0.09801615 -0.54717892  0.28703017  1.56196352]\n",
      "\n",
      "Iteration:  16\n",
      "margin:  0.2944965567298979\n",
      "weight:  [-0.00474817  0.25748213  0.13709092  0.04018346]\n",
      "AvgReward 14\n",
      "FeatureExpectation:  [-0.09707653 -0.54117954  0.28524042  1.57407623]\n",
      "\n",
      "Iteration:  17\n",
      "margin:  0.29449615495607223\n",
      "weight:  [-0.00471897  0.25760578  0.13699255  0.03972431]\n",
      "AvgReward 16\n",
      "FeatureExpectation:  [-0.10856971 -0.58254323  0.28274844  1.61107547]\n",
      "\n",
      "Iteration:  18\n",
      "margin:  0.29448507242105354\n",
      "weight:  [-0.00487836  0.25693588  0.13750109  0.04213151]\n",
      "AvgReward 17\n",
      "FeatureExpectation:  [-0.10626192 -0.52612421  0.28557005  1.57397408]\n",
      "\n",
      "Iteration:  19\n",
      "margin:  0.2944626341486146\n",
      "weight:  [-0.00465082  0.2578458   0.13676502  0.03869735]\n",
      "AvgReward 18\n",
      "FeatureExpectation:  [-0.08887306 -0.51629489  0.27202144  1.49763059]\n",
      "\n"
     ]
    }
   ],
   "source": [
    "#either terminate with margin of 0.003 or 20 iterations\n",
    "epislon=0.004\n",
    "N=10\n",
    "\n",
    "weight=[]\n",
    "featureExpectation=[]\n",
    "featureExpectationBar=[]\n",
    "learnedQ=[]\n",
    "margin=[]\n",
    "\n",
    "for i in range(N):\n",
    "    print(\"Iteration: \",i)\n",
    "    if i==0: #step1, initialization\n",
    "        initialQ=initialize_Q() #give random initial policy\n",
    "        featureExpectation.append(getFeatureExpectation(initialQ))\n",
    "        print(\"expert feature Expectation: \", expertExpectation)\n",
    "        learnedQ.append(initialQ) #put in the initial policy\n",
    "        weight.append(np.zeros(4)) #put in a dummy weight\n",
    "        margin.append(10000) #put in a dummy margin\n",
    "    else:#first iter of step 2\n",
    "        if i==1:\n",
    "            featureExpectationBar.append(featureExpectation[i-1])\n",
    "            weight.append(expertExpectation-featureExpectation[i-1])\n",
    "            margin.append(norm((expertExpectation-featureExpectationBar[i-1]),2))\n",
    "\n",
    "            print(\"margin: \",margin[i])\n",
    "            print(\"weight: \",weight[i])\n",
    "\n",
    "        else: #iter 2 and on of step 2\n",
    "            A=featureExpectationBar[i-2]\n",
    "            B=featureExpectation[i-1]-A\n",
    "            C=expertExpectation-featureExpectationBar[i-2]\n",
    "            featureExpectationBar.append(A+(np.dot(B,C)/np.dot(B,B))*(B))\n",
    "\n",
    "            weight.append(expertExpectation-featureExpectationBar[i-1])\n",
    "            margin.append(norm((expertExpectation-featureExpectationBar[i-1]),2))\n",
    "\n",
    "            print(\"margin: \",margin[i])\n",
    "            print(\"weight: \",weight[i])\n",
    "            \n",
    "        #step3,terminate condition    \n",
    "        if (margin[i]<=epislon):\n",
    "            break\n",
    "\n",
    "        #step4\n",
    "        episode_lengths, episode_rewards, learnedQ_i= irl_play_many_games(bins,weight[i])\n",
    "        learnedQ.append(learnedQ_i)\n",
    "\n",
    "        #step5\n",
    "        featureExpectation.append(getFeatureExpectation(learnedQ[i]))\n",
    "    \n",
    "    print(\"\")"
   ]
  },
  {
   "cell_type": "code",
   "execution_count": 29,
   "metadata": {},
   "outputs": [],
   "source": [
    "bestPolicy=learnedQ[-1]\n",
    "irlReward=play_policy(bins,bestPolicy,N=10000,render=False)"
   ]
  },
  {
   "cell_type": "code",
   "execution_count": 30,
   "metadata": {
    "scrolled": true
   },
   "outputs": [
    {
     "data": {
      "text/plain": [
       "Text(0, 0.5, 'Frequency')"
      ]
     },
     "execution_count": 30,
     "metadata": {},
     "output_type": "execute_result"
    },
    {
     "data": {
      "image/png": "[encoded data removed]",
      "text/plain": [
       "<Figure size 432x288 with 1 Axes>"
      ]
     },
     "metadata": {
      "needs_background": "light"
     },
     "output_type": "display_data"
    }
   ],
   "source": [
    "plt.hist(irlReward)\n",
    "plt.title(\"iRL Reward Distribution\")\n",
    "plt.xlabel(\"Reward\")\n",
    "plt.ylabel(\"Frequency\")"
   ]
  },
  {
   "cell_type": "code",
   "execution_count": 31,
   "metadata": {},
   "outputs": [],
   "source": [
    "irlReward=play_policy(bins,bestPolicy,N=5,render=True)"
   ]
  },
  {
   "cell_type": "code",
   "execution_count": null,
   "metadata": {},
   "outputs": [],
   "source": []
  }
 ],
 "metadata": {
  "kernelspec": {
   "display_name": "Python 3",
   "language": "python",
   "name": "python3"
  },
  "language_info": {
   "codemirror_mode": {
    "name": "ipython",
    "version": 3
   },
   "file_extension": ".py",
   "mimetype": "text/x-python",
   "name": "python",
   "nbconvert_exporter": "python",
   "pygments_lexer": "ipython3",
   "version": "3.5.2"
  }
 },
 "nbformat": 4,
 "nbformat_minor": 2
}
