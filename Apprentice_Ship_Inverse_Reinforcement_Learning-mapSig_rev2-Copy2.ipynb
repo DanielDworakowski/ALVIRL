{
 "cells": [
  {
   "cell_type": "markdown",
   "metadata": {},
   "source": [
    "# Apprenticeship Learning via IRL with Traditional Q Learning Algorithm using Epislon Greedy Strategy"
   ]
  },
  {
   "cell_type": "markdown",
   "metadata": {},
   "source": [
    "### Reference:\n",
    "- [1] P. Abbeel and A. Y. Ng, “Apprenticeship Learning via Inverse Reinforcement Learning.”\n",
    "\n",
    "- [2] OpenAI Gym, Greg Brockman and Vicki Cheung and Ludwig Pettersson and Jonas Schneider and John Schulman and Jie Tang and Wojciech Zaremba 2016 \n",
    "- [3] Phil Tabor, OpenAI-Cartpole, (2017), GitHub repository, https://github.com/philtabor/OpenAI-Cartpole"
   ]
  },
  {
   "cell_type": "markdown",
   "metadata": {},
   "source": [
    "- This notebook demonstrates solving the CartPole model from open AI gym using the Inverse Reinforcement Learning outlined in paper _Apprenticeship Learning via Inverse Reinforcement Learning_\n",
    "\n",
    "- This algorithm requies a expert demonstration as an input, and learned from it.\n",
    "\n",
    "- For the sole purpose of demonstration, the expert demonstration used here is an algorithm learned from a traditional Q learning implementation, with discretized observable state space. And the IRL algorithm learns from that demonstration."
   ]
  },
  {
   "cell_type": "markdown",
   "metadata": {},
   "source": [
    "## Model Overview\n",
    "\n",
    "### Details\n",
    "* Name: CartPole-v0  \n",
    "* Category: Classic Control\n",
    "* [Leaderboard Page](https://github.com/openai/gym/wiki/Leaderboard#cartpole-v0)\n",
    "* Old links:\n",
    "  * [Environment Page](https://gym.openai.com/envs/CartPole-v0)  \n",
    "  * [Algorithms Page](https://gym.openai.com/algorithms?groups=classic_control)\n",
    "\n",
    "### Description\n",
    "A pole is attached by an un-actuated joint to a cart, which moves along a frictionless track. The pendulum starts upright, and the goal is to prevent it from falling over by increasing and reducing the cart's velocity.\n",
    "\n",
    "### Source\n",
    "This environment corresponds to the version of the cart-pole problem described by Barto, Sutton, and Anderson \n",
    "\n",
    "\n",
    "## Environment\n",
    "\n",
    "### Observation\n",
    "Type: Box(4)\n",
    "\n",
    "Num | Observation | Min | Max\n",
    "---|---|---|---\n",
    "0 | Cart Position | -2.4 | 2.4\n",
    "1 | Cart Velocity | -Inf | Inf\n",
    "2 | Pole Angle | ~ -41.8&deg; | ~ 41.8&deg;\n",
    "3 | Pole Velocity At Tip | -Inf | Inf\n",
    "\n",
    "### Actions\n",
    "Type: Discrete(2)\n",
    "\n",
    "Num | Action\n",
    "--- | ---\n",
    "0 | Push cart to the left\n",
    "1 | Push cart to the right\n",
    "\n",
    "Note: The amount the velocity is reduced or increased is not fixed as it depends on the angle the pole is pointing. This is because the center of gravity of the pole increases the amount of energy needed to move the cart underneath it\n",
    "\n",
    "### Reward\n",
    "Reward is 1 for every step taken, including the termination step\n",
    "\n",
    "### Starting State\n",
    "All observations are assigned a uniform random value between ±0.05\n",
    "\n",
    "### Episode Termination\n",
    "1. Pole Angle is more than ±12°\n",
    "2. Cart Position is more than ±2.4 (center of the cart reaches the edge of the display)\n",
    "3. Episode length is greater than 200\n",
    "\n",
    "### Solved Requirements\n",
    "Considered solved when the average reward is greater than or equal to 195.0 over 100 consecutive trials."
   ]
  },
  {
   "cell_type": "code",
   "execution_count": 1,
   "metadata": {},
   "outputs": [],
   "source": [
    "import gym\n",
    "import numpy as np\n",
    "from numpy.linalg import norm\n",
    "import matplotlib.pyplot as plt\n",
    "from IPython.display import clear_output\n",
    "import pickle\n",
    "import time\n",
    "import sys\n",
    "import math"
   ]
  },
  {
   "cell_type": "code",
   "execution_count": 2,
   "metadata": {},
   "outputs": [],
   "source": [
    "env = gym.make('CartPole-v0')\n",
    "\n",
    "nbins = 10\n",
    "GAMMA = 0.9\n",
    "ALPHA = 0.01"
   ]
  },
  {
   "cell_type": "code",
   "execution_count": 3,
   "metadata": {},
   "outputs": [],
   "source": [
    "def max_dict(d): \n",
    "    \"\"\"\n",
    "    looking for the action that gives the maximum value for a given state\n",
    "    \"\"\"\n",
    "    max_v = float('-inf')\n",
    "    for key, val in d.items():\n",
    "        if val > max_v:\n",
    "            max_v = val\n",
    "            max_key = key\n",
    "    return max_key, max_v"
   ]
  },
  {
   "cell_type": "code",
   "execution_count": 4,
   "metadata": {},
   "outputs": [],
   "source": [
    "def create_bins(): \n",
    "    \"\"\"\n",
    "    create bins to discretize the continuous observable state space\n",
    "    \"\"\"\n",
    "    # obs[0] -> cart position --- -4.8 - 4.8\n",
    "    # obs[1] -> cart velocity --- -inf - inf\n",
    "    # obs[2] -> pole angle    --- -41.8 - 41.8\n",
    "    # obs[3] -> pole velocity --- -inf - inf\n",
    "\n",
    "    bins = np.zeros((4,nbins))\n",
    "    bins[0] = np.linspace(-4.8, 4.8, nbins)\n",
    "    bins[1] = np.linspace(-5, 5, nbins)\n",
    "    bins[2] = np.linspace(-.418, .418, nbins)\n",
    "    bins[3] = np.linspace(-5, 5, nbins)\n",
    "    return bins"
   ]
  },
  {
   "cell_type": "code",
   "execution_count": 5,
   "metadata": {},
   "outputs": [],
   "source": [
    "def assign_bins(observation, bins): \n",
    "    \"\"\"\n",
    "    discretizing the continuous observation space into state\n",
    "    \"\"\"\n",
    "    state = np.zeros(4)\n",
    "    for i in range(4):\n",
    "        state[i] = np.digitize(observation[i], bins[i])\n",
    "    return state"
   ]
  },
  {
   "cell_type": "code",
   "execution_count": 6,
   "metadata": {},
   "outputs": [],
   "source": [
    "def get_state_as_string(state):\n",
    "    \"\"\"\n",
    "    encoding the state into string as dictionary\n",
    "    \"\"\"\n",
    "    string_state=''\n",
    "    for e in state:\n",
    "            string_state = string_state+str(int(e)).zfill(2)\n",
    "    return string_state"
   ]
  },
  {
   "cell_type": "code",
   "execution_count": 7,
   "metadata": {},
   "outputs": [],
   "source": [
    "def get_all_states_as_string():\n",
    "    states = []\n",
    "    for i in range (nbins+1):\n",
    "        for j in range (nbins+1):\n",
    "            for k in range(nbins+1):\n",
    "                for l in range(nbins+1):\n",
    "                    a=str(i).zfill(2)+str(j).zfill(2)+str(k).zfill(2)+str(l).zfill(2)\n",
    "                    states.append(a)\n",
    "    return states"
   ]
  },
  {
   "cell_type": "code",
   "execution_count": 8,
   "metadata": {},
   "outputs": [],
   "source": [
    "def initialize_Q():\n",
    "    \"\"\"\n",
    "    initialize your Q table\n",
    "    \"\"\"\n",
    "    Q = {}\n",
    "\n",
    "    all_states = get_all_states_as_string()\n",
    "    for state in all_states:\n",
    "        Q[state] = {}\n",
    "        for action in range(env.action_space.n):\n",
    "            Q[state][action] = 0\n",
    "    return Q"
   ]
  },
  {
   "cell_type": "code",
   "execution_count": 9,
   "metadata": {},
   "outputs": [],
   "source": [
    "def play_one_game(bins, Q, eps=0.5):\n",
    "    \"\"\"\n",
    "    train 1 episode\n",
    "    \"\"\"\n",
    "    observation = env.reset()\n",
    "    done = False\n",
    "    cnt = 0 # number of moves in an episode\n",
    "    state = get_state_as_string(assign_bins(observation, bins))\n",
    "    total_reward = 0\n",
    "\n",
    "    while not done:\n",
    "        cnt += 1\n",
    "        # np.random.randn() seems to yield a random action 50% of the time ?\n",
    "        if np.random.uniform() < eps:\n",
    "            act = env.action_space.sample() # epsilon greedy\n",
    "        else:\n",
    "            act = max_dict(Q[state])[0]\n",
    "\n",
    "        observation, reward, done, _ = env.step(act)\n",
    "\n",
    "        total_reward += reward\n",
    "\n",
    "        if done and cnt < 200:\n",
    "            reward = -300\n",
    "\n",
    "        state_new = get_state_as_string(assign_bins(observation, bins))\n",
    "\n",
    "        a1, max_q_s1a1 = max_dict(Q[state_new])\n",
    "        Q[state][act] += ALPHA*(reward + GAMMA*max_q_s1a1 - Q[state][act])\n",
    "        state, act = state_new, a1\n",
    "\n",
    "    return total_reward, cnt"
   ]
  },
  {
   "cell_type": "code",
   "execution_count": 10,
   "metadata": {},
   "outputs": [],
   "source": [
    "def play_many_games(bins, N=10000):\n",
    "    \"\"\"\n",
    "    train many episodes\n",
    "    \"\"\"\n",
    "    Q = initialize_Q()\n",
    "\n",
    "    length = []\n",
    "    reward = []\n",
    "    for n in range(N):\n",
    "        #eps=0.5/(1+n*10e-3)\n",
    "        eps = 1.0 / np.sqrt(n+1)\n",
    "\n",
    "        episode_reward, episode_length= play_one_game(bins, Q, eps)\n",
    "\n",
    "        if n % 100 == 0:\n",
    "            clear_output(wait=True)\n",
    "            print(\"Episode: %d, Epislon: %.4f, Reward %d\"%(n,eps,episode_reward))\n",
    "        length.append(episode_length)\n",
    "        reward.append(episode_reward)\n",
    "        \n",
    "        if (N-n<=10):\n",
    "            env.render()\n",
    "            time.sleep(0.01)\n",
    "    env.close()\n",
    "    return length, reward, Q"
   ]
  },
  {
   "cell_type": "code",
   "execution_count": 11,
   "metadata": {},
   "outputs": [],
   "source": [
    "def plot_running_avg(totalrewards):\n",
    "    \"\"\"\n",
    "    plotting the average reward during training\n",
    "    \"\"\"\n",
    "    \n",
    "    N = len(totalrewards)\n",
    "    running_avg = np.empty(N)\n",
    "    for t in range(N):\n",
    "        running_avg[t] = np.mean(totalrewards[max(0, t-100):(t+1)])\n",
    "    plt.plot(running_avg)\n",
    "    plt.title(\"Running Average\")\n",
    "    plt.show()"
   ]
  },
  {
   "cell_type": "code",
   "execution_count": 12,
   "metadata": {},
   "outputs": [],
   "source": [
    "def play_policy(bins,Q,N=1000,render=False,delay=0.01):\n",
    "    \"\"\"\n",
    "    run an environment using a trained policy\n",
    "    \"\"\"\n",
    "    \n",
    "    totalReward=[]\n",
    "    steps=[]\n",
    "    for n in range(N):\n",
    "        observation=env.reset()\n",
    "        done=False\n",
    "        episodeReward=0\n",
    "        while not done:\n",
    "            if render:\n",
    "                env.render()\n",
    "                time.sleep(delay)\n",
    "            state=get_state_as_string(assign_bins(observation, bins))\n",
    "            act=max_dict(Q[state])[0]\n",
    "#             print(act)\n",
    "            observation,reward,done,_=env.step(act)\n",
    "            episodeReward+=reward\n",
    "        totalReward.append(episodeReward)\n",
    "    env.close()\n",
    "    return totalReward"
   ]
  },
  {
   "cell_type": "markdown",
   "metadata": {},
   "source": [
    "## Finding Expert Policy\n",
    "\n",
    "Here we train a tradition Q-learning to use as the expert policy that we want the apprenticeship IRL algorithm to learn from. The reward obtained from each state-action pair is stored in a 10000 x 2 array, where the rows are the states and columns are the actions. Each cell is a reward associated with the state-action pair. The algorithm uses epislon-greedy approach choose its actions, and updates its Q table through the training iterations. This Q table is the policy."
   ]
  },
  {
   "cell_type": "code",
   "execution_count": 13,
   "metadata": {},
   "outputs": [],
   "source": [
    "bins = create_bins()"
   ]
  },
  {
   "cell_type": "code",
   "execution_count": 14,
   "metadata": {
    "scrolled": false
   },
   "outputs": [
    {
     "name": "stdout",
     "output_type": "stream",
     "text": [
      "Episode: 19900, Epislon: 0.0071, Reward 200\n"
     ]
    },
    {
     "data": {
      "image/png": "[encoded data removed]",
      "text/plain": [
       "<Figure size 432x288 with 1 Axes>"
      ]
     },
     "metadata": {
      "needs_background": "light"
     },
     "output_type": "display_data"
    }
   ],
   "source": [
    "episode_lengths, episode_rewards, expert_Q=play_many_games(bins,N=20000)\n",
    "\n",
    "plot_running_avg(episode_rewards)"
   ]
  },
  {
   "cell_type": "code",
   "execution_count": 15,
   "metadata": {},
   "outputs": [
    {
     "name": "stdout",
     "output_type": "stream",
     "text": [
      "export trained expert model...\n"
     ]
    }
   ],
   "source": [
    "print(\"export trained expert model...\")\n",
    "filename = 'expert_Q'\n",
    "outfile = open(filename,'wb')\n",
    "pickle.dump(expert_Q,outfile)\n",
    "outfile.close()"
   ]
  },
  {
   "cell_type": "markdown",
   "metadata": {},
   "source": [
    "# Demonstrate Expert Policy\n",
    "\n",
    "Here we show the training result. Using the trained policy, we run the environment 10000 times to look at the reward distribution. "
   ]
  },
  {
   "cell_type": "code",
   "execution_count": 16,
   "metadata": {
    "scrolled": true
   },
   "outputs": [
    {
     "data": {
      "text/plain": [
       "Text(0, 0.5, 'Frequency')"
      ]
     },
     "execution_count": 16,
     "metadata": {},
     "output_type": "execute_result"
    },
    {
     "data": {
      "image/png": "[encoded data removed]",
      "text/plain": [
       "<Figure size 432x288 with 1 Axes>"
      ]
     },
     "metadata": {
      "needs_background": "light"
     },
     "output_type": "display_data"
    }
   ],
   "source": [
    "expertReward=play_policy(bins,expert_Q,N=10000,render=False)\n",
    "\n",
    "plt.hist(expertReward,bins=50)\n",
    "plt.title(\"Reward Distribution\")\n",
    "plt.xlabel(\"Reward\")\n",
    "plt.ylabel(\"Frequency\")"
   ]
  },
  {
   "cell_type": "markdown",
   "metadata": {},
   "source": [
    "We render the environment to visualize the policy in action."
   ]
  },
  {
   "cell_type": "markdown",
   "metadata": {},
   "source": [
    "expertReward=play_policy(bins,expert_Q,N=1,render=True,delay=0.05)"
   ]
  },
  {
   "cell_type": "code",
   "execution_count": 18,
   "metadata": {},
   "outputs": [],
   "source": [
    "env.close()"
   ]
  },
  {
   "cell_type": "markdown",
   "metadata": {},
   "source": [
    "# Build IRL Algorithm"
   ]
  },
  {
   "cell_type": "markdown",
   "metadata": {},
   "source": [
    "Here we define some additional functions for our algorithm.\n",
    "\n",
    "**Import note:** the Q-learning algorithm is now modified. It discards the returned reward from the training environment and uses uses the reward function $R(s,a)=w^T\\phi(s)$, where $w$ is the weight found through the IRL algorithm, and $\\phi(s)$ is the observation space"
   ]
  },
  {
   "cell_type": "code",
   "execution_count": 19,
   "metadata": {},
   "outputs": [],
   "source": [
    "def sigmoid(arry):\n",
    "    sig=[]\n",
    "    for i in arry:\n",
    "        sig.append(1/(1+math.exp(-i)))           \n",
    "    return np.array(sig)"
   ]
  },
  {
   "cell_type": "code",
   "execution_count": 20,
   "metadata": {},
   "outputs": [],
   "source": [
    "def getFeatureExpectation(Q,N=1000):\n",
    "    observationSum=np.zeros(4)\n",
    "    for i in range(N):\n",
    "        observation=env.reset()\n",
    "        done=False\n",
    "        cnt=0\n",
    "        while not done:\n",
    "            state=get_state_as_string(assign_bins(observation, bins))\n",
    "            act=max_dict(Q[state])[0]\n",
    "            observation,reward,done,_=env.step(act)\n",
    "            observation=sigmoid(observation)\n",
    "            observationSum+=(GAMMA**cnt)*observation\n",
    "            cnt+=1\n",
    "    featureExpectation=observationSum/N\n",
    "    \n",
    "    print(\"FeatureExpectation: \",featureExpectation)\n",
    "    return featureExpectation"
   ]
  },
  {
   "cell_type": "code",
   "execution_count": 21,
   "metadata": {},
   "outputs": [],
   "source": [
    "def irl_play_one_game(bins,weight,Q,eps=0.5):\n",
    "    observation = env.reset()\n",
    "    done = False\n",
    "    cnt = 0 # number of moves in an episode\n",
    "    state = get_state_as_string(assign_bins(observation, bins))\n",
    "    total_reward = 0\n",
    "    \n",
    "\n",
    "    while not done:\n",
    "        cnt += 1\n",
    "        # np.random.randn() seems to yield a random action 50% of the time ?\n",
    "        if np.random.uniform() < eps:\n",
    "            act = env.action_space.sample() # epsilon greedy\n",
    "        else:\n",
    "            act = max_dict(Q[state])[0]\n",
    "\n",
    "        observation, reward, done, _ = env.step(act)\n",
    "        #use the reward function found from irl algorithm\n",
    "        reward = np.dot(weight,observation)\n",
    "\n",
    "        total_reward += reward\n",
    "\n",
    "        if done and cnt < 200:\n",
    "            reward = -300\n",
    "\n",
    "        state_new = get_state_as_string(assign_bins(observation, bins))\n",
    "\n",
    "        a1, max_q_s1a1 = max_dict(Q[state_new])\n",
    "        Q[state][act] += ALPHA*(reward + GAMMA*max_q_s1a1 - Q[state][act])\n",
    "        state, act = state_new, a1\n",
    "\n",
    "    return total_reward, cnt"
   ]
  },
  {
   "cell_type": "code",
   "execution_count": 22,
   "metadata": {},
   "outputs": [],
   "source": [
    "def irl_play_many_games(bins,weight,N=10000):\n",
    "    Q = initialize_Q()\n",
    "    length = []\n",
    "    reward = []\n",
    "    for n in range(N):\n",
    "        eps = 1.0 / np.sqrt(n+1)\n",
    "\n",
    "        episode_reward, episode_length= irl_play_one_game(bins, weight,Q,eps)\n",
    "\n",
    "        length.append(episode_length)\n",
    "        reward.append(episode_reward) \n",
    "    print(\"Avg episode length %d\"%(np.average(length)))\n",
    "    print(\"standard deviation %d\"%(np.std(length)))\n",
    "    return length, reward, Q"
   ]
  },
  {
   "cell_type": "code",
   "execution_count": 23,
   "metadata": {
    "scrolled": false
   },
   "outputs": [
    {
     "name": "stdout",
     "output_type": "stream",
     "text": [
      "FeatureExpectation:  [3.44896382 2.54005618 3.5774275  4.78638709]\n"
     ]
    }
   ],
   "source": [
    "expertExpectation=getFeatureExpectation(expert_Q)"
   ]
  },
  {
   "cell_type": "markdown",
   "metadata": {},
   "source": [
    "Here we start the training of the IRL algorithm using projection method. Refer to P. Abbeel and A. Y. Ng, “Apprenticeship Learning via Inverse Reinforcement Learning.” for the algorithm below."
   ]
  },
  {
   "cell_type": "code",
   "execution_count": 24,
   "metadata": {
    "scrolled": false
   },
   "outputs": [
    {
     "name": "stdout",
     "output_type": "stream",
     "text": [
      "Iteration:  0\n",
      "FeatureExpectation:  [3.05557119 1.92079739 3.22573691 4.75632177]\n",
      "expert feature Expectation:  [3.44896382 2.54005618 3.5774275  4.78638709]\n",
      "\n",
      "Iteration:  1\n",
      "margin:  0.8141433556328309\n",
      "weight:  [0.39339262 0.6192588  0.35169059 0.03006532]\n",
      "Avg episode length 175\n",
      "standard deviation 37\n",
      "FeatureExpectation:  [3.07770982 1.95132357 3.24346824 4.76142397]\n",
      "\n",
      "Iteration:  2\n",
      "margin:  0.08260460332283191\n",
      "weight:  [-0.03372993  0.03031448  0.00959859 -0.06837186]\n",
      "Avg episode length 189\n",
      "standard deviation 29\n",
      "FeatureExpectation:  [3.44757248 2.53947641 3.57425611 4.78412006]\n",
      "\n",
      "Iteration:  3\n",
      "margin:  0.003655189701769461\n",
      "weight:  [0.00054935 0.00129262 0.00332547 0.00057356]\n",
      "Avg episode length 189\n",
      "standard deviation 28\n",
      "FeatureExpectation:  [3.08016912 1.94048968 3.2473289  4.78582848]\n",
      "\n",
      "Iteration:  4\n",
      "margin:  0.002505122418452243\n",
      "weight:  [-0.0007157  -0.00076266  0.00220289  0.00057361]\n",
      "Avg episode length 190\n",
      "standard deviation 28\n",
      "FeatureExpectation:  [3.44744673 2.54230602 3.57544868 4.7830098 ]\n",
      "\n",
      "Iteration:  5\n",
      "margin:  0.002499520798842265\n",
      "weight:  [-0.00081189 -0.0006986   0.00221254  0.00045283]\n",
      "Avg episode length 189\n",
      "standard deviation 29\n",
      "FeatureExpectation:  [3.44131743 2.53815381 3.57048721 4.77859671]\n",
      "\n",
      "Iteration:  6\n",
      "margin:  0.0024656297208117657\n",
      "weight:  [-0.00109103 -0.00078444  0.00205651  0.00021068]\n",
      "Avg episode length 188\n",
      "standard deviation 29\n",
      "FeatureExpectation:  [3.07234441 1.94388407 3.23807222 4.75980744]\n",
      "\n",
      "Iteration:  7\n",
      "margin:  0.002454758119683907\n",
      "weight:  [-0.0009795  -0.00060817  0.00215611  0.00021846]\n",
      "Avg episode length 188\n",
      "standard deviation 30\n",
      "FeatureExpectation:  [3.43771852 2.53326893 3.56894311 4.77957457]\n",
      "\n",
      "Iteration:  8\n",
      "margin:  0.002453396068673351\n",
      "weight:  [-0.00092056 -0.00057252  0.00218662  0.00025025]\n",
      "Avg episode length 193\n",
      "standard deviation 24\n",
      "FeatureExpectation:  [3.44521436 2.53855921 3.57531503 4.7852786 ]\n",
      "\n",
      "Iteration:  9\n",
      "margin:  0.0022180747632297984\n",
      "weight:  [ 2.46572315e-05 -1.53645794e-04  2.17161201e-03  4.23959816e-04]\n",
      "Avg episode length 190\n",
      "standard deviation 28\n",
      "FeatureExpectation:  [3.44971226 2.543325   3.57847133 4.79223308]\n",
      "\n",
      "export trained IRL model...\n"
     ]
    }
   ],
   "source": [
    "#either terminate with margin or iteration\n",
    "epislon=0.00002\n",
    "N=10\n",
    "\n",
    "weight=[]\n",
    "featureExpectation=[]\n",
    "featureExpectationBar=[]\n",
    "learnedQ=[]\n",
    "margin=[]\n",
    "\n",
    "for i in range(N):\n",
    "    print(\"Iteration: \",i)\n",
    "    if i==0: #step1, initialization\n",
    "        initialQ=initialize_Q() #give random initial policy\n",
    "        featureExpectation.append(getFeatureExpectation(initialQ))\n",
    "        print(\"expert feature Expectation: \", expertExpectation)\n",
    "        learnedQ.append(initialQ) #put in the initial policy\n",
    "        weight.append(np.zeros(4)) #put in a dummy weight\n",
    "        margin.append(10) #put in a dummy margin\n",
    "    else:#first iter of step 2\n",
    "        if i==1:\n",
    "            featureExpectationBar.append(featureExpectation[i-1])\n",
    "            weight.append(expertExpectation-featureExpectation[i-1])\n",
    "            margin.append(norm((expertExpectation-featureExpectationBar[i-1]),2))\n",
    "\n",
    "            print(\"margin: \",margin[i])\n",
    "            print(\"weight: \",weight[i])\n",
    "\n",
    "        else: #iter 2 and on of step 2\n",
    "            A=featureExpectationBar[i-2]\n",
    "            B=featureExpectation[i-1]-A\n",
    "            C=expertExpectation-featureExpectationBar[i-2]\n",
    "            featureExpectationBar.append(A+(np.dot(B,C)/np.dot(B,B))*(B))\n",
    "\n",
    "            weight.append(expertExpectation-featureExpectationBar[i-1])\n",
    "            margin.append(norm((expertExpectation-featureExpectationBar[i-1]),2))\n",
    "\n",
    "            print(\"margin: \",margin[i])\n",
    "            print(\"weight: \",weight[i])\n",
    "            \n",
    "        #step3,terminate condition    \n",
    "        if (margin[i]<=epislon):\n",
    "            break\n",
    "\n",
    "        #step4\n",
    "        episode_lengths, episode_rewards, learnedQ_i= irl_play_many_games(bins,weight[i])\n",
    "        learnedQ.append(learnedQ_i)\n",
    "\n",
    "        #step5\n",
    "        featureExpectation.append(getFeatureExpectation(learnedQ[i]))\n",
    "    \n",
    "    print(\"\")\n",
    "\n",
    "print(\"export trained IRL model...\")\n",
    "filename = 'learnedQ'\n",
    "outfile = open(filename,'wb')\n",
    "pickle.dump(learnedQ,outfile)\n",
    "outfile.close()"
   ]
  },
  {
   "cell_type": "markdown",
   "metadata": {},
   "source": [
    "## Training Result"
   ]
  },
  {
   "cell_type": "code",
   "execution_count": 25,
   "metadata": {},
   "outputs": [
    {
     "data": {
      "text/plain": [
       "Text(0, 0.5, 'Distance')"
      ]
     },
     "execution_count": 25,
     "metadata": {},
     "output_type": "execute_result"
    },
    {
     "data": {
      "image/png": "[encoded data removed]",
      "text/plain": [
       "<Figure size 432x288 with 1 Axes>"
      ]
     },
     "metadata": {
      "needs_background": "light"
     },
     "output_type": "display_data"
    }
   ],
   "source": [
    "#Plotting Convergence Rate\n",
    "plt.plot(margin)\n",
    "plt.title(\"Distance To Expert Feature Distribution\")\n",
    "plt.xlabel(\"Iteration\")\n",
    "plt.ylabel(\"Distance\")"
   ]
  },
  {
   "cell_type": "code",
   "execution_count": 26,
   "metadata": {},
   "outputs": [
    {
     "data": {
      "text/plain": [
       "Text(0, 0.5, 'Frequency')"
      ]
     },
     "execution_count": 26,
     "metadata": {},
     "output_type": "execute_result"
    },
    {
     "data": {
      "image/png": "[encoded data removed]",
      "text/plain": [
       "<Figure size 432x288 with 1 Axes>"
      ]
     },
     "metadata": {
      "needs_background": "light"
     },
     "output_type": "display_data"
    }
   ],
   "source": [
    "untrainedPolicy=learnedQ[0]\n",
    "uReward=play_policy(bins,untrainedPolicy,N=10000,render=False)\n",
    "plt.hist(uReward,bins=50)\n",
    "plt.title(\"iRL Reward Distribution\")\n",
    "plt.xlabel(\"Reward\")\n",
    "plt.ylabel(\"Frequency\")"
   ]
  },
  {
   "cell_type": "code",
   "execution_count": 27,
   "metadata": {},
   "outputs": [
    {
     "data": {
      "text/plain": [
       "Text(0, 0.5, 'Frequency')"
      ]
     },
     "execution_count": 27,
     "metadata": {},
     "output_type": "execute_result"
    },
    {
     "data": {
      "image/png": "[encoded data removed]",
      "text/plain": [
       "<Figure size 432x288 with 1 Axes>"
      ]
     },
     "metadata": {
      "needs_background": "light"
     },
     "output_type": "display_data"
    }
   ],
   "source": [
    "intermediatePolicy=learnedQ[1]\n",
    "intReward=play_policy(bins,intermediatePolicy,N=10000,render=False)\n",
    "plt.hist(intReward,bins=50)\n",
    "plt.title(\"iRL Reward Distribution\")\n",
    "plt.xlabel(\"Reward\")\n",
    "plt.ylabel(\"Frequency\")"
   ]
  },
  {
   "cell_type": "code",
   "execution_count": 28,
   "metadata": {
    "scrolled": false
   },
   "outputs": [
    {
     "data": {
      "text/plain": [
       "Text(0, 0.5, 'Frequency')"
      ]
     },
     "execution_count": 28,
     "metadata": {},
     "output_type": "execute_result"
    },
    {
     "data": {
      "image/png": "[encoded data removed]",
      "text/plain": [
       "<Figure size 432x288 with 1 Axes>"
      ]
     },
     "metadata": {
      "needs_background": "light"
     },
     "output_type": "display_data"
    }
   ],
   "source": [
    "bestPolicy=learnedQ[-1]\n",
    "irlReward=play_policy(bins,bestPolicy,N=10000,render=False)\n",
    "plt.hist(irlReward,bins=50)\n",
    "plt.title(\"iRL Reward Distribution\")\n",
    "plt.xlabel(\"Reward\")\n",
    "plt.ylabel(\"Frequency\")"
   ]
  },
  {
   "cell_type": "code",
   "execution_count": 29,
   "metadata": {},
   "outputs": [],
   "source": [
    "uReward=play_policy(bins,untrainedPolicy,N=1,render=True,delay=0.05)"
   ]
  },
  {
   "cell_type": "code",
   "execution_count": 30,
   "metadata": {},
   "outputs": [],
   "source": [
    "intReward=play_policy(bins,intermediatePolicy,N=1,render=True,delay=0.05)"
   ]
  },
  {
   "cell_type": "code",
   "execution_count": 31,
   "metadata": {},
   "outputs": [],
   "source": [
    "irlReward=play_policy(bins,bestPolicy,N=1,render=True,delay=0.05)"
   ]
  },
  {
   "cell_type": "code",
   "execution_count": 32,
   "metadata": {},
   "outputs": [],
   "source": [
    "expertReward=play_policy(bins,expert_Q,N=1,render=True,delay=0.05)"
   ]
  }
 ],
 "metadata": {
  "kernelspec": {
   "display_name": "Python 3",
   "language": "python",
   "name": "python3"
  },
  "language_info": {
   "codemirror_mode": {
    "name": "ipython",
    "version": 3
   },
   "file_extension": ".py",
   "mimetype": "text/x-python",
   "name": "python",
   "nbconvert_exporter": "python",
   "pygments_lexer": "ipython3",
   "version": "3.5.2"
  }
 },
 "nbformat": 4,
 "nbformat_minor": 2
}
