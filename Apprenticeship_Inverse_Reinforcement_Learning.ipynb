{
 "cells": [
  {
   "cell_type": "markdown",
   "metadata": {},
   "source": [
    "# Apprenticeship Learning via IRL with Traditional Q Learning Algorithm using Epislon Greedy Strategy"
   ]
  },
  {
   "cell_type": "markdown",
   "metadata": {},
   "source": [
    "### Reference:\n",
    "- [1] P. Abbeel and A. Y. Ng, “Apprenticeship Learning via Inverse Reinforcement Learning.”\n",
    "\n",
    "- [2] OpenAI Gym, Greg Brockman and Vicki Cheung and Ludwig Pettersson and Jonas Schneider and John Schulman and Jie Tang and Wojciech Zaremba 2016 \n",
    "- [3] Phil Tabor, OpenAI-Cartpole, (2017), GitHub repository, https://github.com/philtabor/OpenAI-Cartpole"
   ]
  },
  {
   "cell_type": "markdown",
   "metadata": {},
   "source": [
    "- This notebook demonstrates solving the CartPole model from open AI gym using the Inverse Reinforcement Learning outlined in paper _Apprenticeship Learning via Inverse Reinforcement Learning_\n",
    "\n",
    "- This algorithm requies a expert demonstration as an input, and learned from it.\n",
    "\n",
    "- For the sole purpose of demonstration, the expert demonstration used here is an algorithm learned from a traditional Q learning implementation, with discretized observable state space. And the IRL algorithm learns from that demonstration."
   ]
  },
  {
   "cell_type": "markdown",
   "metadata": {},
   "source": [
    "## Model Overview\n",
    "\n",
    "### Details\n",
    "* Name: CartPole-v0  \n",
    "* Category: Classic Control\n",
    "* [Leaderboard Page](https://github.com/openai/gym/wiki/Leaderboard#cartpole-v0)\n",
    "* Old links:\n",
    "  * [Environment Page](https://gym.openai.com/envs/CartPole-v0)  \n",
    "  * [Algorithms Page](https://gym.openai.com/algorithms?groups=classic_control)\n",
    "\n",
    "### Description\n",
    "A pole is attached by an un-actuated joint to a cart, which moves along a frictionless track. The pendulum starts upright, and the goal is to prevent it from falling over by increasing and reducing the cart's velocity.\n",
    "\n",
    "### Source\n",
    "This environment corresponds to the version of the cart-pole problem described by Barto, Sutton, and Anderson \n",
    "\n",
    "\n",
    "## Environment\n",
    "\n",
    "### Observation\n",
    "Type: Box(4)\n",
    "\n",
    "Num | Observation | Min | Max\n",
    "---|---|---|---\n",
    "0 | Cart Position | -2.4 | 2.4\n",
    "1 | Cart Velocity | -Inf | Inf\n",
    "2 | Pole Angle | ~ -41.8&deg; | ~ 41.8&deg;\n",
    "3 | Pole Velocity At Tip | -Inf | Inf\n",
    "\n",
    "### Actions\n",
    "Type: Discrete(2)\n",
    "\n",
    "Num | Action\n",
    "--- | ---\n",
    "0 | Push cart to the left\n",
    "1 | Push cart to the right\n",
    "\n",
    "Note: The amount the velocity is reduced or increased is not fixed as it depends on the angle the pole is pointing. This is because the center of gravity of the pole increases the amount of energy needed to move the cart underneath it\n",
    "\n",
    "### Reward\n",
    "Reward is 1 for every step taken, including the termination step\n",
    "\n",
    "### Starting State\n",
    "All observations are assigned a uniform random value between ±0.05\n",
    "\n",
    "### Episode Termination\n",
    "1. Pole Angle is more than ±12°\n",
    "2. Cart Position is more than ±2.4 (center of the cart reaches the edge of the display)\n",
    "3. Episode length is greater than 200\n",
    "\n",
    "### Solved Requirements\n",
    "Considered solved when the average reward is greater than or equal to 195.0 over 100 consecutive trials."
   ]
  },
  {
   "cell_type": "code",
   "execution_count": 1,
   "metadata": {},
   "outputs": [],
   "source": [
    "import gym\n",
    "import numpy as np\n",
    "from numpy.linalg import norm\n",
    "import matplotlib.pyplot as plt\n",
    "from IPython.display import clear_output\n",
    "import pickle\n",
    "import time\n",
    "import sys\n",
    "import math\n",
    "import seaborn as sns"
   ]
  },
  {
   "cell_type": "code",
   "execution_count": 2,
   "metadata": {},
   "outputs": [],
   "source": [
    "env = gym.make('CartPole-v0')\n",
    "\n",
    "nbins = 10\n",
    "GAMMA = 0.9\n",
    "ALPHA = 0.01"
   ]
  },
  {
   "cell_type": "code",
   "execution_count": 3,
   "metadata": {},
   "outputs": [],
   "source": [
    "def max_dict(d): \n",
    "    \"\"\"\n",
    "    looking for the action that gives the maximum value for a given state\n",
    "    \"\"\"\n",
    "    max_v = float('-inf')\n",
    "    for key, val in d.items():\n",
    "        if val > max_v:\n",
    "            max_v = val\n",
    "            max_key = key\n",
    "    return max_key, max_v"
   ]
  },
  {
   "cell_type": "code",
   "execution_count": 4,
   "metadata": {},
   "outputs": [],
   "source": [
    "def create_bins(): \n",
    "    \"\"\"\n",
    "    create bins to discretize the continuous observable state space\n",
    "    \"\"\"\n",
    "    # obs[0] -> cart position --- -4.8 - 4.8\n",
    "    # obs[1] -> cart velocity --- -inf - inf\n",
    "    # obs[2] -> pole angle    --- -41.8 - 41.8\n",
    "    # obs[3] -> pole velocity --- -inf - inf\n",
    "\n",
    "    bins = np.zeros((4,nbins))\n",
    "    bins[0] = np.linspace(-4.8, 4.8, nbins)\n",
    "    bins[1] = np.linspace(-5, 5, nbins)\n",
    "    bins[2] = np.linspace(-.418, .418, nbins)\n",
    "    bins[3] = np.linspace(-5, 5, nbins)\n",
    "    return bins"
   ]
  },
  {
   "cell_type": "code",
   "execution_count": 5,
   "metadata": {},
   "outputs": [],
   "source": [
    "def assign_bins(observation, bins): \n",
    "    \"\"\"\n",
    "    discretizing the continuous observation space into state\n",
    "    \"\"\"\n",
    "    state = np.zeros(4)\n",
    "    for i in range(4):\n",
    "        state[i] = np.digitize(observation[i], bins[i])\n",
    "    return state"
   ]
  },
  {
   "cell_type": "code",
   "execution_count": 6,
   "metadata": {},
   "outputs": [],
   "source": [
    "def get_state_as_string(state):\n",
    "    \"\"\"\n",
    "    encoding the state into string as dictionary\n",
    "    \"\"\"\n",
    "    string_state=''\n",
    "    for e in state:\n",
    "            string_state = string_state+str(int(e)).zfill(2)\n",
    "    return string_state"
   ]
  },
  {
   "cell_type": "code",
   "execution_count": 7,
   "metadata": {},
   "outputs": [],
   "source": [
    "def get_all_states_as_string():\n",
    "    states = []\n",
    "    for i in range (nbins+1):\n",
    "        for j in range (nbins+1):\n",
    "            for k in range(nbins+1):\n",
    "                for l in range(nbins+1):\n",
    "                    a=str(i).zfill(2)+str(j).zfill(2)+str(k).zfill(2)+str(l).zfill(2)\n",
    "                    states.append(a)\n",
    "    return states"
   ]
  },
  {
   "cell_type": "code",
   "execution_count": 8,
   "metadata": {},
   "outputs": [],
   "source": [
    "def initialize_Q():\n",
    "    \"\"\"\n",
    "    initialize your Q table\n",
    "    \"\"\"\n",
    "    Q = {}\n",
    "\n",
    "    all_states = get_all_states_as_string()\n",
    "    for state in all_states:\n",
    "        Q[state] = {}\n",
    "        for action in range(env.action_space.n):\n",
    "            Q[state][action] = 0\n",
    "    return Q"
   ]
  },
  {
   "cell_type": "code",
   "execution_count": 9,
   "metadata": {},
   "outputs": [],
   "source": [
    "def play_one_game(bins, Q, eps=0.5):\n",
    "    \"\"\"\n",
    "    train 1 episode\n",
    "    \"\"\"\n",
    "    observation = env.reset()\n",
    "    done = False\n",
    "    cnt = 0 # number of moves in an episode\n",
    "    state = get_state_as_string(assign_bins(observation, bins))\n",
    "    total_reward = 0\n",
    "\n",
    "    while not done:\n",
    "        cnt += 1\n",
    "        # np.random.randn() seems to yield a random action 50% of the time ?\n",
    "        if np.random.uniform() < eps:\n",
    "            act = env.action_space.sample() # epsilon greedy\n",
    "        else:\n",
    "            act = max_dict(Q[state])[0]\n",
    "\n",
    "        observation, reward, done, _ = env.step(act)\n",
    "\n",
    "        total_reward += reward\n",
    "\n",
    "        if done and cnt < 200:\n",
    "            reward = -300\n",
    "\n",
    "        state_new = get_state_as_string(assign_bins(observation, bins))\n",
    "\n",
    "        a1, max_q_s1a1 = max_dict(Q[state_new])\n",
    "        Q[state][act] += ALPHA*(reward + GAMMA*max_q_s1a1 - Q[state][act])\n",
    "        state, act = state_new, a1\n",
    "\n",
    "    return total_reward, cnt"
   ]
  },
  {
   "cell_type": "code",
   "execution_count": 10,
   "metadata": {},
   "outputs": [],
   "source": [
    "def play_many_games(bins, N=10000):\n",
    "    \"\"\"\n",
    "    train many episodes\n",
    "    \"\"\"\n",
    "    Q = initialize_Q()\n",
    "\n",
    "    length = []\n",
    "    reward = []\n",
    "    for n in range(N):\n",
    "        #eps=0.5/(1+n*10e-3)\n",
    "        eps = 1.0 / np.sqrt(n+1)\n",
    "\n",
    "        episode_reward, episode_length= play_one_game(bins, Q, eps)\n",
    "\n",
    "        if n % 100 == 0:\n",
    "            clear_output(wait=True)\n",
    "            print(\"Episode: %d, Epislon: %.4f, Reward %d\"%(n,eps,episode_reward))\n",
    "        length.append(episode_length)\n",
    "        reward.append(episode_reward)\n",
    "    env.close()\n",
    "    return length, reward, Q"
   ]
  },
  {
   "cell_type": "code",
   "execution_count": 11,
   "metadata": {},
   "outputs": [],
   "source": [
    "def plot_running_avg(totalrewards):\n",
    "    \"\"\"\n",
    "    plotting the average reward during training\n",
    "    \"\"\"\n",
    "    \n",
    "    N = len(totalrewards)\n",
    "    running_avg = np.empty(N)\n",
    "    for t in range(N):\n",
    "        running_avg[t] = np.mean(totalrewards[max(0, t-100):(t+1)])\n",
    "    plt.plot(running_avg)\n",
    "    plt.title(\"Running Average\")\n",
    "    plt.show()"
   ]
  },
  {
   "cell_type": "code",
   "execution_count": 12,
   "metadata": {},
   "outputs": [],
   "source": [
    "def play_policy(bins,Q,N=1000,render=False,delay=0.01):\n",
    "    \"\"\"\n",
    "    run an environment using a trained policy\n",
    "    \"\"\"\n",
    "    \n",
    "    totalReward=[]\n",
    "    steps=[]\n",
    "    for n in range(N):\n",
    "        observation=env.reset()\n",
    "        done=False\n",
    "        episodeReward=0\n",
    "        while not done:\n",
    "            if render:\n",
    "                env.render()\n",
    "                time.sleep(delay)\n",
    "            state=get_state_as_string(assign_bins(observation, bins))\n",
    "            act=max_dict(Q[state])[0]\n",
    "#             print(act)\n",
    "            observation,reward,done,_=env.step(act)\n",
    "            episodeReward+=reward\n",
    "        totalReward.append(episodeReward)\n",
    "    env.close()\n",
    "    return totalReward"
   ]
  },
  {
   "cell_type": "markdown",
   "metadata": {},
   "source": [
    "## Finding Expert Policy\n",
    "\n",
    "Here we train a tradition Q-learning to use as the expert policy that we want the apprenticeship IRL algorithm to learn from. The reward obtained from each state-action pair is stored in a 10000 x 2 array, where the rows are the states and columns are the actions. Each cell is a reward associated with the state-action pair. The algorithm uses epislon-greedy approach choose its actions, and updates its Q table through the training iterations. This Q table is the policy."
   ]
  },
  {
   "cell_type": "code",
   "execution_count": 13,
   "metadata": {},
   "outputs": [],
   "source": [
    "bins = create_bins()"
   ]
  },
  {
   "cell_type": "code",
   "execution_count": 14,
   "metadata": {
    "scrolled": false
   },
   "outputs": [
    {
     "name": "stdout",
     "output_type": "stream",
     "text": [
      "Episode: 19900, Epislon: 0.0071, Reward 200\n"
     ]
    },
    {
     "data": {
      "image/png": "[encoded data removed]",
      "text/plain": [
       "<Figure size 432x288 with 1 Axes>"
      ]
     },
     "metadata": {
      "needs_background": "light"
     },
     "output_type": "display_data"
    }
   ],
   "source": [
    "episode_lengths, episode_rewards, expert_Q=play_many_games(bins,N=20000)\n",
    "\n",
    "plot_running_avg(episode_rewards)"
   ]
  },
  {
   "cell_type": "code",
   "execution_count": 15,
   "metadata": {},
   "outputs": [
    {
     "name": "stdout",
     "output_type": "stream",
     "text": [
      "export trained expert model...\n"
     ]
    }
   ],
   "source": [
    "print(\"export trained expert model...\")\n",
    "filename = 'expert_Q'\n",
    "outfile = open(filename,'wb')\n",
    "pickle.dump(expert_Q,outfile)\n",
    "outfile.close()"
   ]
  },
  {
   "cell_type": "markdown",
   "metadata": {},
   "source": [
    "# Demonstrate Expert Policy\n",
    "\n",
    "Here we show the training result. Using the trained policy, we run the environment 10000 times to look at the reward distribution. "
   ]
  },
  {
   "cell_type": "code",
   "execution_count": 16,
   "metadata": {
    "scrolled": true
   },
   "outputs": [
    {
     "data": {
      "text/plain": [
       "Text(0, 0.5, 'Frequency')"
      ]
     },
     "execution_count": 16,
     "metadata": {},
     "output_type": "execute_result"
    },
    {
     "data": {
      "image/png": "[encoded data removed]",
      "text/plain": [
       "<Figure size 432x288 with 1 Axes>"
      ]
     },
     "metadata": {
      "needs_background": "light"
     },
     "output_type": "display_data"
    }
   ],
   "source": [
    "expertReward=play_policy(bins,expert_Q,N=10000,render=False)\n",
    "\n",
    "plt.hist(expertReward,bins=50)\n",
    "plt.title(\"Reward Distribution\")\n",
    "plt.xlabel(\"Reward\")\n",
    "plt.ylabel(\"Frequency\")"
   ]
  },
  {
   "cell_type": "code",
   "execution_count": 33,
   "metadata": {},
   "outputs": [
    {
     "data": {
      "text/plain": [
       "array([200.])"
      ]
     },
     "execution_count": 33,
     "metadata": {},
     "output_type": "execute_result"
    }
   ],
   "source": [
    "np.unique(expertReward, return_counts=False)"
   ]
  },
  {
   "cell_type": "markdown",
   "metadata": {},
   "source": [
    "We render the environment to visualize the policy in action."
   ]
  },
  {
   "cell_type": "code",
   "execution_count": 17,
   "metadata": {},
   "outputs": [],
   "source": [
    "expertReward=play_policy(bins,expert_Q,N=1,render=True,delay=0.05)"
   ]
  },
  {
   "cell_type": "code",
   "execution_count": 18,
   "metadata": {},
   "outputs": [],
   "source": [
    "env.close()"
   ]
  },
  {
   "cell_type": "markdown",
   "metadata": {},
   "source": [
    "# Build IRL Algorithm"
   ]
  },
  {
   "cell_type": "markdown",
   "metadata": {},
   "source": [
    "Here we define some additional functions for our algorithm.\n",
    "\n",
    "### **Import notes:** \n",
    "1. the Q-learning algorithm is now modified. It discards the returned reward from the training environment and uses uses the reward function $R(s,a)=w^T\\phi(s)$, where $w$ is the weight found through the IRL algorithm, and $\\phi(s)$ is the observation space\n",
    "2. To have the observation features between [0,1] for calculating feature expectation, the each feature element is passed through a sigmoid function to do the mapping. \n",
    "$$y=\\frac{1}{1+e^{-x}}$$\n"
   ]
  },
  {
   "cell_type": "code",
   "execution_count": 19,
   "metadata": {},
   "outputs": [],
   "source": [
    "def sigmoid(arry):\n",
    "    sig=[]\n",
    "    for i in arry:\n",
    "        sig.append(1/(1+math.exp(-i)))           \n",
    "    return np.array(sig)"
   ]
  },
  {
   "cell_type": "code",
   "execution_count": 20,
   "metadata": {},
   "outputs": [],
   "source": [
    "def getFeatureExpectation(Q,N=1000):\n",
    "    observationSum=np.zeros(4)\n",
    "    for i in range(N):\n",
    "        observation=env.reset()\n",
    "        done=False\n",
    "        cnt=0\n",
    "        while not done:\n",
    "            state=get_state_as_string(assign_bins(observation, bins))\n",
    "            act=max_dict(Q[state])[0]\n",
    "            observation,reward,done,_=env.step(act)\n",
    "            observation=sigmoid(observation)\n",
    "            observationSum+=(GAMMA**cnt)*observation\n",
    "            cnt+=1\n",
    "    featureExpectation=observationSum/N\n",
    "    \n",
    "    print(\"FeatureExpectation: \",featureExpectation)\n",
    "    return featureExpectation"
   ]
  },
  {
   "cell_type": "code",
   "execution_count": 21,
   "metadata": {},
   "outputs": [],
   "source": [
    "def irl_play_one_game(bins,weight,Q,eps=0.5):\n",
    "    observation = env.reset()\n",
    "    done = False\n",
    "    cnt = 0 # number of moves in an episode\n",
    "    state = get_state_as_string(assign_bins(observation, bins))\n",
    "    total_reward = 0\n",
    "    \n",
    "\n",
    "    while not done:\n",
    "        cnt += 1\n",
    "        # np.random.randn() seems to yield a random action 50% of the time ?\n",
    "        if np.random.uniform() < eps:\n",
    "            act = env.action_space.sample() # epsilon greedy\n",
    "        else:\n",
    "            act = max_dict(Q[state])[0]\n",
    "\n",
    "        observation, reward, done, _ = env.step(act)\n",
    "        \n",
    "        #encode observations into state\n",
    "        state_new = get_state_as_string(assign_bins(observation, bins))\n",
    "        \n",
    "        #map observations to 0 and 1\n",
    "        observation=sigmoid(observation)\n",
    "        \n",
    "        #discard the simulation reward, and use the reward function found from irl algorithm\n",
    "        reward = np.dot(weight,observation)\n",
    "\n",
    "        total_reward += reward\n",
    "\n",
    "        if done and cnt < 200:\n",
    "            reward = -1\n",
    "\n",
    "\n",
    "        a1, max_q_s1a1 = max_dict(Q[state_new])\n",
    "        Q[state][act] += ALPHA*(reward + GAMMA*max_q_s1a1 - Q[state][act])\n",
    "        state, act = state_new, a1\n",
    "\n",
    "    return total_reward, cnt"
   ]
  },
  {
   "cell_type": "code",
   "execution_count": 22,
   "metadata": {},
   "outputs": [],
   "source": [
    "def irl_play_many_games(bins,weight,N=10000):\n",
    "    Q = initialize_Q()\n",
    "    length = []\n",
    "    reward = []\n",
    "    for n in range(N):\n",
    "        eps = 1.0 / np.sqrt(n+1)\n",
    "\n",
    "        episode_reward, episode_length= irl_play_one_game(bins, weight,Q,eps)\n",
    "\n",
    "        length.append(episode_length)\n",
    "        reward.append(episode_reward) \n",
    "    print(\"Avg Length %d\"%(np.average(length)))\n",
    "    print(\"standard deviation %d\"%(np.std(length)))\n",
    "    return np.average(length), reward, Q"
   ]
  },
  {
   "cell_type": "code",
   "execution_count": 23,
   "metadata": {
    "scrolled": false
   },
   "outputs": [
    {
     "name": "stdout",
     "output_type": "stream",
     "text": [
      "FeatureExpectation:  [3.44287678 2.53793661 3.57157302 4.77879764]\n"
     ]
    }
   ],
   "source": [
    "expertExpectation=getFeatureExpectation(expert_Q,N=100000)"
   ]
  },
  {
   "cell_type": "markdown",
   "metadata": {},
   "source": [
    "Here we start the training of the IRL algorithm using projection method. Refer to P. Abbeel and A. Y. Ng, “Apprenticeship Learning via Inverse Reinforcement Learning.” for the algorithm below."
   ]
  },
  {
   "cell_type": "code",
   "execution_count": 24,
   "metadata": {
    "scrolled": false
   },
   "outputs": [
    {
     "name": "stdout",
     "output_type": "stream",
     "text": [
      "Iteration:  0\n",
      "FeatureExpectation:  [3.06310066 1.92260535 3.22988416 4.76772733]\n",
      "expert feature Expectation:  [3.44287678 2.53793661 3.57157302 4.77879764]\n",
      "\n",
      "Iteration:  1\n",
      "margin:  0.7998351584513947\n",
      "weight:  [0.37977611 0.61533126 0.34168886 0.01107031]\n",
      "Avg Length 16\n",
      "standard deviation 2\n",
      "FeatureExpectation:  [3.05909184 1.92024854 3.22680857 4.76293128]\n",
      "\n",
      "Iteration:  2\n",
      "margin:  0.5765986918104369\n",
      "weight:  [ 0.07761923  0.43769128  0.1098727  -0.35042209]\n",
      "Avg Length 28\n",
      "standard deviation 13\n",
      "FeatureExpectation:  [3.45162443 2.5575729  3.5795135  4.77229237]\n",
      "\n",
      "Iteration:  3\n",
      "margin:  0.009785472000078711\n",
      "weight:  [-0.00561208 -0.00303286 -0.00366324 -0.0064531 ]\n",
      "Avg Length 149\n",
      "standard deviation 54\n",
      "FeatureExpectation:  [3.43841458 2.53454977 3.56907762 4.77825346]\n",
      "\n",
      "Iteration:  4\n",
      "margin:  0.002405735474551364\n",
      "weight:  [ 0.00069426  0.00098577  0.00019197 -0.00207292]\n",
      "Avg Length 184\n",
      "standard deviation 35\n",
      "FeatureExpectation:  [3.07025658 1.94768347 3.23757939 4.75207419]\n",
      "\n",
      "Iteration:  5\n",
      "margin:  0.002144170713635092\n",
      "weight:  [ 0.0001695   0.00015435 -0.000279   -0.00211355]\n",
      "Avg Length 179\n",
      "standard deviation 42\n",
      "FeatureExpectation:  [3.41647762 2.50517002 3.54762145 4.76193375]\n",
      "\n",
      "Iteration:  6\n",
      "margin:  0.002019763680546362\n",
      "weight:  [ 5.32892627e-04  6.06172910e-04  5.66988281e-05 -1.85062433e-03]\n",
      "Avg Length 181\n",
      "standard deviation 38\n",
      "FeatureExpectation:  [3.44488137 2.53879238 3.57356194 4.78694646]\n",
      "\n",
      "Iteration:  7\n",
      "margin:  0.0015586279780847648\n",
      "weight:  [ 0.00098307  0.00086554  0.00041961 -0.00073326]\n",
      "Avg Length 195\n",
      "standard deviation 21\n",
      "FeatureExpectation:  [3.07237309 1.94630312 3.2406472  4.75608183]\n",
      "\n",
      "Iteration:  8\n",
      "margin:  0.0008733441520822061\n",
      "weight:  [ 0.00036481 -0.0001229  -0.00013337 -0.0007725 ]\n",
      "Avg Length 183\n",
      "standard deviation 36\n",
      "FeatureExpectation:  [3.44427031 2.53942049 3.57313354 4.77981624]\n",
      "\n",
      "Iteration:  9\n",
      "margin:  0.0008726296902144054\n",
      "weight:  [ 0.0003414  -0.00014102 -0.00015237 -0.00077577]\n",
      "Avg Length 182\n",
      "standard deviation 37\n",
      "FeatureExpectation:  [3.07758148 1.94925748 3.24407667 4.76272782]\n",
      "\n",
      "export trained IRL model...\n"
     ]
    }
   ],
   "source": [
    "#either terminate with margin or iteration\n",
    "epislon=0.00002\n",
    "N=10\n",
    "\n",
    "weight=[]\n",
    "featureExpectation=[]\n",
    "featureExpectationBar=[]\n",
    "learnedQ=[]\n",
    "margin=[]\n",
    "avgEpisodeLength=[]\n",
    "\n",
    "for i in range(N):\n",
    "    print(\"Iteration: \",i)\n",
    "    if i==0: #step1, initialization\n",
    "        initialQ=initialize_Q() #give random initial policy\n",
    "        featureExpectation.append(getFeatureExpectation(initialQ))\n",
    "        print(\"expert feature Expectation: \", expertExpectation)\n",
    "        learnedQ.append(initialQ) #put in the initial policy\n",
    "        weight.append(np.zeros(4)) #put in a dummy weight\n",
    "        margin.append(1) #put in a dummy margin\n",
    "    else:#first iter of step 2\n",
    "        if i==1:\n",
    "            featureExpectationBar.append(featureExpectation[i-1])\n",
    "            weight.append(expertExpectation-featureExpectation[i-1])\n",
    "            margin.append(norm((expertExpectation-featureExpectationBar[i-1]),2))\n",
    "\n",
    "            print(\"margin: \",margin[i])\n",
    "            print(\"weight: \",weight[i])\n",
    "\n",
    "        else: #iter 2 and on of step 2\n",
    "            A=featureExpectationBar[i-2]\n",
    "            B=featureExpectation[i-1]-A\n",
    "            C=expertExpectation-featureExpectationBar[i-2]\n",
    "            featureExpectationBar.append(A+(np.dot(B,C)/np.dot(B,B))*(B))\n",
    "\n",
    "            weight.append(expertExpectation-featureExpectationBar[i-1])\n",
    "            margin.append(norm((expertExpectation-featureExpectationBar[i-1]),2))\n",
    "\n",
    "            print(\"margin: \",margin[i])\n",
    "            print(\"weight: \",weight[i])\n",
    "            \n",
    "        #step3,terminate condition    \n",
    "        if (margin[i]<=epislon):\n",
    "            break\n",
    "\n",
    "        #step4\n",
    "        episode_lengths, episode_rewards, learnedQ_i= irl_play_many_games(bins,weight[i])\n",
    "        learnedQ.append(learnedQ_i)\n",
    "        avgEpisodeLength.append(episode_lengths)\n",
    "        #step5\n",
    "        featureExpectation.append(getFeatureExpectation(learnedQ[i]))\n",
    "    \n",
    "    print(\"\")\n",
    "\n",
    "print(\"export trained IRL model...\")\n",
    "filename = 'learnedQ'\n",
    "outfile = open(filename,'wb')\n",
    "pickle.dump(learnedQ,outfile)\n",
    "outfile.close()"
   ]
  },
  {
   "cell_type": "markdown",
   "metadata": {},
   "source": [
    "## Training Result"
   ]
  },
  {
   "cell_type": "code",
   "execution_count": 25,
   "metadata": {
    "scrolled": false
   },
   "outputs": [
    {
     "data": {
      "text/plain": [
       "Text(0, 0.5, 'Distance')"
      ]
     },
     "execution_count": 25,
     "metadata": {},
     "output_type": "execute_result"
    },
    {
     "data": {
      "image/png": "[encoded data removed]",
      "text/plain": [
       "<Figure size 432x288 with 1 Axes>"
      ]
     },
     "metadata": {
      "needs_background": "light"
     },
     "output_type": "display_data"
    }
   ],
   "source": [
    "#Plotting Convergence Rate\n",
    "plt.plot(margin)\n",
    "plt.title(\"Distance To Expert Feature Distribution\")\n",
    "plt.xlabel(\"Iteration\")\n",
    "plt.ylabel(\"Distance\")"
   ]
  },
  {
   "cell_type": "code",
   "execution_count": 26,
   "metadata": {},
   "outputs": [
    {
     "data": {
      "image/png": "[encoded data removed]",
      "text/plain": [
       "<Figure size 432x288 with 1 Axes>"
      ]
     },
     "metadata": {
      "needs_background": "light"
     },
     "output_type": "display_data"
    }
   ],
   "source": [
    "iteration=[]\n",
    "relativePerformance=[]\n",
    "for i in range(np.size(avgEpisodeLength)):\n",
    "    iteration.append(i)\n",
    "    relativePerformance.append(avgEpisodeLength[i]/200)\n",
    "plt.plot(iteration,relativePerformance)\n",
    "plt.xlabel(\"Iteration\")\n",
    "plt.ylabel(\"Relative Performance to Expert Policy\")\n",
    "plt.title(\"Training Result\")\n",
    "plt.grid()"
   ]
  },
  {
   "cell_type": "code",
   "execution_count": 28,
   "metadata": {
    "scrolled": true
   },
   "outputs": [],
   "source": [
    "uReward=play_policy(bins,learnedQ[0],N=1,render=True,delay=0.05)"
   ]
  },
  {
   "cell_type": "code",
   "execution_count": 29,
   "metadata": {},
   "outputs": [],
   "source": [
    "intReward=play_policy(bins,learnedQ[2],N=1,render=True,delay=0.05)"
   ]
  },
  {
   "cell_type": "code",
   "execution_count": 30,
   "metadata": {},
   "outputs": [],
   "source": [
    "irlReward=play_policy(bins,learnedQ[-1],N=1,render=True,delay=0.05)"
   ]
  },
  {
   "cell_type": "code",
   "execution_count": 31,
   "metadata": {},
   "outputs": [],
   "source": [
    "expertReward=play_policy(bins,expert_Q,N=1,render=True,delay=0.05)"
   ]
  },
  {
   "cell_type": "code",
   "execution_count": null,
   "metadata": {},
   "outputs": [],
   "source": []
  }
 ],
 "metadata": {
  "kernelspec": {
   "display_name": "Python 3",
   "language": "python",
   "name": "python3"
  },
  "language_info": {
   "codemirror_mode": {
    "name": "ipython",
    "version": 3
   },
   "file_extension": ".py",
   "mimetype": "text/x-python",
   "name": "python",
   "nbconvert_exporter": "python",
   "pygments_lexer": "ipython3",
   "version": "3.5.2"
  }
 },
 "nbformat": 4,
 "nbformat_minor": 2
}
